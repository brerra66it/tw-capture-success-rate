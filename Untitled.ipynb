{
 "cells": [
  {
   "cell_type": "code",
   "execution_count": 10,
   "metadata": {},
   "outputs": [
    {
     "name": "stdout",
     "output_type": "stream",
     "text": [
      "experimental capture rate is  0.946494657037661\n",
      "loyalty range is [30, 31, 32, 33, 34, 35, 36, 37, 38, 39, 40, 41, 42, 43, 44]\n",
      "captured  709875\n",
      "failed 49500\n",
      "theoretical capture rate is  0.9348148148148148\n",
      "error is  0.011679842222846237\n"
     ]
    }
   ],
   "source": [
    "from numpy import zeros\n",
    "\n",
    "#parameters\n",
    "train_count = 3\n",
    "initial_loyalty = 100\n",
    "bonus_paladin = 10\n",
    "bonus_inventory = 0\n",
    "#thus\n",
    "loyalty_min = 20 + bonus_paladin + bonus_inventory\n",
    "loyalty_max = 35 + bonus_paladin + bonus_inventory\n",
    "\n",
    "#experimental approach\n",
    "import random\n",
    "nobles = zeros(train_count)\n",
    "nobles_capture = nobles_fail = 0\n",
    "while nobles_capture < 100000:\n",
    "    for i, x in enumerate(nobles):\n",
    "        nobles[i] = random.randint(loyalty_min, loyalty_max)\n",
    "    if sum(nobles) > (initial_loyalty - 1):\n",
    "        nobles_capture += 1\n",
    "    else:\n",
    "        nobles_fail += 1\n",
    "result_experiment = nobles_capture/(nobles_capture+nobles_fail)\n",
    "print(\"experimental capture rate is \", result_experiment)\n",
    "\n",
    "#theoretical approach\n",
    "loyaltyrange = range(loyalty_min, loyalty_max)\n",
    "print(\"loyalty range is\", list(loyaltyrange))\n",
    "nobles_capture = nobles_fail = 0\n",
    "for noble1 in loyaltyrange:\n",
    "    for noble2 in loyaltyrange:\n",
    "        for noble3 in loyaltyrange:\n",
    "            for noble5 in loyaltyrange:\n",
    "                for noble5 in loyaltyrange:\n",
    "                    if train_count == 3:\n",
    "                        noble4 = 0\n",
    "                        noble5 = 0\n",
    "                    if train_count == 4:\n",
    "                        noble5 = 0\n",
    "                    if noble1 + noble2 + noble3 + noble4 + noble5 > (initial_loyalty - 1):\n",
    "                        nobles_capture += 1\n",
    "                    else:\n",
    "                        nobles_fail += 1\n",
    "print(\"captured \", nobles_capture)\n",
    "print(\"failed\", nobles_fail)\n",
    "result_theory = nobles_capture/(nobles_capture+nobles_fail)\n",
    "print(\"theoretical capture rate is \", result_theory)\n",
    "print(\"error is \", result_experiment - result_theory)"
   ]
  },
  {
   "cell_type": "code",
   "execution_count": null,
   "metadata": {},
   "outputs": [],
   "source": []
  }
 ],
 "metadata": {
  "kernelspec": {
   "display_name": "Python 3",
   "language": "python",
   "name": "python3"
  },
  "language_info": {
   "codemirror_mode": {
    "name": "ipython",
    "version": 3
   },
   "file_extension": ".py",
   "mimetype": "text/x-python",
   "name": "python",
   "nbconvert_exporter": "python",
   "pygments_lexer": "ipython3",
   "version": "3.7.3"
  }
 },
 "nbformat": 4,
 "nbformat_minor": 4
}
