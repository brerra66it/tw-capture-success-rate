from numpy import zeros

#parameters
train_count = 3
initial_loyalty = 100
bonus_paladin = 0
bonus_inventory = 5
#thus
loyalty_min = 20 + bonus_paladin + bonus_inventory
loyalty_max = 35 + bonus_paladin + bonus_inventory

#experimental approach
import random
nobles = zeros(train_count)
nobles_capture = nobles_fail = 0
while (nobles_capture + nobles_fail) < 100000:
    for i, x in enumerate(nobles):
        nobles[i] = random.randint(loyalty_min, loyalty_max)
    if sum(nobles) > (initial_loyalty - 1):
        nobles_capture += 1
    else:
        nobles_fail += 1
result_experiment = nobles_capture/(nobles_capture+nobles_fail)
print("experimental capture rate is ", result_experiment)

#theoretical approach
loyaltyrange = range(loyalty_min, loyalty_max)
print("loyalty range is", list(loyaltyrange))
nobles_capture = nobles_fail = 0
for noble1 in loyaltyrange:
    for noble2 in loyaltyrange:
        for noble3 in loyaltyrange:
            for noble4 in loyaltyrange:
                for noble5 in loyaltyrange:
                    if train_count == 3:
                        noble4 = 0
                        noble5 = 0
                    if train_count == 4:
                        noble5 = 0
                    if noble1 + noble2 + noble3 + noble4 + noble5 > (initial_loyalty - 1):
                        nobles_capture += 1
                    else:
                        nobles_fail += 1
print("captured ", nobles_capture)
print("failed", nobles_fail)
result_theory = nobles_capture/(nobles_capture+nobles_fail)
print("theoretical capture rate is ", result_theory)
print("error is ", result_experiment - result_theory)
